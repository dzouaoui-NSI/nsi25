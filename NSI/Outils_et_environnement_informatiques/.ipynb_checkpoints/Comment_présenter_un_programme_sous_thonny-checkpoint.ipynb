{
 "cells": [
  {
   "cell_type": "markdown",
   "metadata": {},
   "source": [
    "# Comment présenter clairement son travail sous Thonny ?\n",
    "\n",
    "> Rappel : ce qui est écrit dans la zone interactive de Thonny ne peut pas et ne doit pas être rendu !\n",
    "\n",
    "Imaginons que vous faîtes une feuille d'exercices où il y a du code python à écrire. Il y a par exemple 2 exercices avec 2 questions dans le premier exercice et 3 questions dans le deuxième exercice. Votre fichier devra être de la forme suivante :\n",
    "\n",
    "```python\n",
    "# EXERCICE1\n",
    "\n",
    "# Question1\n",
    "\n",
    ".... Ecire votre code réponse ici\n",
    "\n",
    "# Question2\n",
    "\n",
    ".... Ecire votre code réponse ici\n",
    "\n",
    "# EXERCICE2\n",
    "\n",
    "# Question1\n",
    "\n",
    ".... Ecire votre code réponse ici\n",
    "\n",
    "# Question2\n",
    "\n",
    ".... Ecire votre code réponse ici\n",
    "\n",
    "# Question3\n",
    "\n",
    ".... Ecire votre code réponse ici\n",
    "\n",
    "```\n",
    "\n",
    "### Si vous ne respectez pas cette mise en forme, vous serez sanctionnés !"
   ]
  }
 ],
 "metadata": {
  "kernelspec": {
   "display_name": "Python 3",
   "language": "python",
   "name": "python3"
  },
  "language_info": {
   "codemirror_mode": {
    "name": "ipython",
    "version": 3
   },
   "file_extension": ".py",
   "mimetype": "text/x-python",
   "name": "python",
   "nbconvert_exporter": "python",
   "pygments_lexer": "ipython3",
   "version": "3.6.9"
  }
 },
 "nbformat": 4,
 "nbformat_minor": 4
}
