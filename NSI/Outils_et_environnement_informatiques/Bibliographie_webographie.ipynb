{
 "cells": [
  {
   "cell_type": "markdown",
   "metadata": {},
   "source": [
    "> Je mets à jour ce document au fur et à mesure que je trouve des ressources que je trouvent intéressantes ou utiles pour les élèves. Certaines de ces ressources ont été utilisées pour construire mes propres cours.\n",
    "\n",
    "\n",
    "# Ressources générales\n",
    "\n",
    "* Équipe pédagogique du département informatique de l'Université de Lille - [Portail pédagogique](http://www.fil.univ-lille1.fr/portail/?=undefined&label=Portail%20p%C3%A9dagogique)\n",
    "\n",
    "\n",
    "* Gérard Swinnen - Apprendre à programmer avec Python 3 - Edition Eyrolles\\\n",
    "disponible en téléchargement libre à partir du site http://inforef.be/swi/python.htm\n",
    "\n",
    "\n",
    "* [Site web de Fabrice Sincere](http://fsincere.free.fr/isn/presentation/isn_presentation.php)\n",
    "\n",
    "\n",
    "* Gilles DowekJean-Pierre Archambault, Emmanuel Baccelli, Claudio Cimelli,Albert Cohen, Christine Eisenbeis, Thierry Viéville et Benjamin WackPréface de Gérard Berry, professeur au Collège de France - Informatique  et sciences du numérique - Edition Eyrolles\\\n",
    "disponible en téléchargement libre à partir du site https://wiki.inria.fr/wikis/sciencinfolycee/images/a/a7/Informatique_et_Sciences_du_Num%C3%A9rique_-_Sp%C3%A9cialit%C3%A9_ISN_en_Terminale_S._version_Python.pdf\n",
    "\n",
    "\n",
    "* [Spécialité Numérique et sciences informatiques : 30 leçons avec exercices corrigés - Première - Nouveaux programmes](https://www.editions-ellipses.fr/accueil/118-specialite-numerique-et-sciences-informatiques-30-lecons-avec-exercices-corriges-premiere-nouveaux-programmes-9782340033641.html) de Thibault Balabonski, Sylvain Conchon, Jean-Christophe Filliâtre et Kim Nguyen - Edition Ellipse\n",
    "\n",
    "\n",
    "* [Spécialité Numérique et sciences informatiques - Première - nouveaux programmes](https://www.editions-ellipses.fr/accueil/1170-specialite-numerique-et-sciences-informatiques-premiere-nouveaux-programmes-9782340031722.html) de Serge Bays - Edition Ellipse\n",
    "\n",
    "\n",
    "* [Spécialité Numérique et sciences informatiques - Première - nouveaux programmes](https://www.editions-ellipses.fr/accueil/2292-specialite-numerique-et-sciences-informatiques-premiere-nouveaux-programmes-9782340031784.html) de Cecile Canu - Edition Ellipse\n",
    "\n",
    "\n",
    "\n",
    "\n",
    "# Python\n",
    "\n",
    "* [J'ai compris](http://www.jaicompris.com/python.php) : Les bases en Python. Recommandé pour les élèves en difficultés sur les notions de base en python\n",
    "* Une [playlist sur youtube](https://www.youtube.com/playlist?list=PLrSOXFDHBtfHg8fWBd7sKPxEmahwyVBkC) qui reprend tout depuis le début mais qui aborde aussi des notions qui ne sont pas au programme de la NSI. Cette chaîne YouTube propose aussi des vidéos sur d'autres points du programmes (commandes linux, web ...)\n",
    "* Une [autre playlist sur YouTube](https://www.youtube.com/playlist?list=PLMS9Cy4Enq5JmIZtKE5OHJCI3jZfpASbR) sur python (J'aime un peu moins)\n",
    "\n",
    "\n",
    "# Web (bloc4)\n",
    "\n",
    "* Le site de référence : [mozilla development network](https://developer.mozilla.org/fr/docs/Web/HTML/Element)\n",
    "* Les excellents cours (avec vidéos) sur **HTML, CSS et Javascript** de JC Routier dispensés en [première année de licence de l'univervité de Lille 1](https://www.fil.univ-lille1.fr/~routier/enseignement/licence/tw1/spoc/). (Depuis la base vue en NSI jusqu'à un niveau plus avancé pour ceux qui veulent aller plus loin)\n",
    "* Le cours **HTML5 et CSS3** de [openclassroom](https://openclassrooms.com/fr/courses/1603881-apprenez-a-creer-votre-site-web-avec-html5-et-css3)\n",
    "\n",
    "\n",
    "# Système d'exploitation GNU/Linux\n",
    "\n",
    "* [CMDER](https://cmder.net/) permet d'émuler une console linux sous windows pour s'entraîner à la maison sur les commandes de base linux\n",
    "* http://wiki.linux-france.org/wiki/Accueil\n",
    "* https://ubuntu-fr.org/\n",
    "* https://openclassrooms.com/fr/courses/43538-reprenez-le-controle-a-laide-de-linux/\n",
    "\n",
    "\n"
   ]
  }
 ],
 "metadata": {
  "kernelspec": {
   "display_name": "Python 3",
   "language": "python",
   "name": "python3"
  },
  "language_info": {
   "codemirror_mode": {
    "name": "ipython",
    "version": 3
   },
   "file_extension": ".py",
   "mimetype": "text/x-python",
   "name": "python",
   "nbconvert_exporter": "python",
   "pygments_lexer": "ipython3",
   "version": "3.7.2"
  }
 },
 "nbformat": 4,
 "nbformat_minor": 4
}
