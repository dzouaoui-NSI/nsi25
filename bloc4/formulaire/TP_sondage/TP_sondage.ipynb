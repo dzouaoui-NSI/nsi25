{
 "cells": [
  {
   "cell_type": "markdown",
   "metadata": {},
   "source": [
    "# TP sondage\n",
    "\n",
    "## Objectif\n",
    "\n",
    "* Créer un site web permettant de faire un sondage auprès des élèves sur la réforme du baccalauréat et du lycée  \n",
    "* Le site est développé **côté serveur** en **python**, **Flask** et **HTML**.\n",
    "\n",
    "\n",
    "**Selon les consignes données**, vous pourrez travailler en binôme sur 2 ordinateurs :\n",
    "* Un ordinateur hébergeant le serveur\n",
    "* Un ordinateur \"côté client\" pour effectuer plusieurs participations au sondage\n",
    "\n",
    "\n",
    "## Travail à faire\n",
    "\n",
    "* Créer le fichier `index.html` permettant de recueillir les votes des visiteurs. On utilisera pour cela un **formulaire**. e la méthode `post` pour transmettre les données vers le serveur. Un aperçu de cette page web est donnée ci-dessous :\n",
    "\n",
    "![index](img/index.png)\n",
    "\n",
    "* Télécharger et compléter le fichier `sondage.py`. Seule la fonction `resultat` est à compléter. Il y a 3 parties à compléter (voir les commentaires écrits dans le fichier et les explications données en début de TP) :\n",
    "    * Partie 1 : Récupérer les données du formulaire. On utilisera la méthode `post`\n",
    "    * Partie 2 : Traitement des données afin d'en déduire des résultats\n",
    "    * Partie 3 : Renvoyer les résultats du sondage. Cette partie doit être faite en cohérence avec la création du fichier `resultat.html`. <br>**Rappel :** La syntaxe `{{ }}` doit être utilisée pour passer des variables de **Flask** vers le fichier HTML `resultat.html`.\n",
    "    \n",
    "Un aperçu de la page de résultats est donnée ci-dessous (les résultats sont affichés en gras et varient bien sûr en fonction  des votes des visiteurs)\n",
    "    \n",
    "![resultat](img/resultat.png)\n",
    "\n",
    "\n",
    "## Questions\n",
    "\n",
    "\n",
    "1. Pourquoi ce site de sondage ne peut pas être développé uniquement côté client (en javasscript) ?\n",
    "2. Quelles modifications doit-on apporter pour utiliser une méthode `get` plutôt que `post`. Tester ces modifications\n",
    "3. Pour ce site de sondage, y-a-t'il une méthode (`get` ou `post`) à éviter absolument. Pourquoi ?\n",
    "4. Pourquoi les 4 variables employées dans `sondage.py` doivent être globales et non locales ?\n",
    "5. Les résultats sont-ils conservés lorsqu'on redémarre le serveur ? Pourquoi ? Connaissez-vous une façon de faire qui remédie à ce problème ?\n",
    "\n",
    "\n",
    "## Pour aller plus loin...\n",
    "\n",
    "Le site est largement améliorable notamment :\n",
    "\n",
    "* Corriger le bug qui apparaît lorsqu'un visiteur valide son vote sans avoir entré de note\n",
    "* Sauvegarder les résultats dans un fichier (par exemple un fichier `CSV`) en cas de redémarrage du serveur.\n",
    "* Ajouter un peu de CSS pour rendre le site plus esthétique\n",
    "* Ajouter dans le formulaire une zone de saisie de texte (par exemple une zone `textarea`) permettant au visiteur de poster des commentaires sur la réforme\n",
    "* Limiter l'affichage des nombres flottants à 2 chiffres après la virgule\n",
    "* etc..."
   ]
  }
 ],
 "metadata": {
  "kernelspec": {
   "display_name": "Python 3",
   "language": "python",
   "name": "python3"
  },
  "language_info": {
   "codemirror_mode": {
    "name": "ipython",
    "version": 3
   },
   "file_extension": ".py",
   "mimetype": "text/x-python",
   "name": "python",
   "nbconvert_exporter": "python",
   "pygments_lexer": "ipython3",
   "version": "3.7.2"
  }
 },
 "nbformat": 4,
 "nbformat_minor": 4
}
