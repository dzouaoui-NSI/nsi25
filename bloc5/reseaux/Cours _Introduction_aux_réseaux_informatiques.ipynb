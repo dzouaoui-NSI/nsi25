{
 "cells": [
  {
   "cell_type": "markdown",
   "metadata": {},
   "source": [
    "# Introduction aux réseaux informatiques\n"
   ]
  },
  {
   "cell_type": "markdown",
   "metadata": {},
   "source": [
    "# 1. Qu'est-ce qu'un réseau ?\n",
    "## Définition\n",
    "Un **réseau informatique** est un ensemble d'équipements reliés entre eux pour échanger des informations. Pour échanger des informations entre eux, les équipements utilisent un ensemble de règles communes appelées **protocole de communication**.\n",
    "\n",
    "Les réseaux informatiques permettent aux utilisateurs de communiquer entre eux et de transférer des informations. Ces transmissions de données peuvent concerner l'échange de messages entre utilisateurs, l'accès à distance de base de données ou encore le partage de fichiers."
   ]
  },
  {
   "cell_type": "markdown",
   "metadata": {},
   "source": [
    "<img src=\"img/cours/image1.png\">"
   ]
  },
  {
   "cell_type": "markdown",
   "metadata": {},
   "source": [
    "## Les types de réseaux\n",
    "En fonction de la localisation, de la distance et du débit, les réseaux informatiques sont classés en 4 types :\n",
    "* **PAN** *(Personal Area Network)* : Réseau restreint en terme d'équipements - Portée de quelques mètres\n",
    "\n",
    "* **LAN** *(Local Area Network)* : Réseau à l'échelle d'une maison ou d'une entreprise permettant l'échange de données et le partage de ressources.\n",
    "\n",
    "* **MAN** *(Metropolitan Area Network)* : Réseau à l'échelle d'une ville permettant la connexion entre plusieurs sites à l'échelle d'une ville\n",
    "\n",
    "* **WAN** *(Wide Area Network)* : Réseau à l'échelle d'un pays, utilisé par les opérateurs. Le plus connu des WAN est Internet"
   ]
  },
  {
   "cell_type": "markdown",
   "metadata": {},
   "source": [
    "<img src=\"img/cours/image2.png\">"
   ]
  },
  {
   "cell_type": "markdown",
   "metadata": {},
   "source": [
    "## Les topologies des réseaux\n",
    "La façon dont les équipements d'un réseau sont reliés entre eux s'appelle **la topologie du réseau**. Il existe 4 topologies de réseaux : \n",
    "\n",
    "### Topologie en bus\n",
    "Les machines sont reliées au même câble, l'une après l'autre. \n",
    "* **Avantages** : \n",
    "    * Peu coûteux\n",
    "    * Si une machine tombe en panne, le réseau fonctionne toujours\n",
    "\n",
    "* **Inconvénients** : \n",
    "    * Toutes les informations sont envoyées à toutes les machines. \n",
    "    * Si le bus casse, tout le réseau tombe en panne. \n",
    "    * Problème de collisions !"
   ]
  },
  {
   "cell_type": "markdown",
   "metadata": {},
   "source": [
    "<img src=\"img/cours/image4.png\">"
   ]
  },
  {
   "cell_type": "markdown",
   "metadata": {},
   "source": [
    "### Topologie en anneaux\n",
    "La topologie est quasiment identique à celle en bus avec une spécificité supplémentaire : le token ring. (Jeton)\n",
    "\n",
    "Le jeton correspond à une autorisation de communication. Pour pouvoir transmettre un message, une machine a besoin d'avoir le jeton de communication. Une fois que la machine a transmis son message, elle passe le jeton à la machine suivante et ainsi de suite. Si la machine n'a rien à transmettre, elle le passe directement au suivant.\n",
    "\n",
    "* **Avantages** : \n",
    "    * Peu couteux \n",
    "    * Si une machine tombe en panne, le réseau fonctionne toujours\n",
    "* **Inconvénients** : \n",
    "    * Toutes les informations sont envoyées à toutes les machines. \n",
    "    * Si le bus casse, tout le réseau tombe en panne. "
   ]
  },
  {
   "cell_type": "markdown",
   "metadata": {},
   "source": [
    "<img src=\"img/cours/image5.gif\">"
   ]
  },
  {
   "cell_type": "markdown",
   "metadata": {},
   "source": [
    "### Topologie maillée\n",
    "Le principe de cette topologie est de relier toutes les machines entre-elles.\n",
    "\n",
    "* **Avantages** : \n",
    "    * Si une machine tombe en panne, le réseau fonctionne toujours\n",
    "* **Inconvénient** : \n",
    "    * Gestion impossible avec un grand nombre de machines\n",
    "    * Prix très élevé"
   ]
  },
  {
   "cell_type": "markdown",
   "metadata": {},
   "source": [
    "<img src=\"img/cours/image6.png\">"
   ]
  },
  {
   "cell_type": "markdown",
   "metadata": {},
   "source": [
    "### Topologie en étoile\n",
    "Le principe de cette topologie est de relier toutes les machines à un concentrateur ou commutateur central.\n",
    "\n",
    "* **Avantages** : \n",
    "    * Si une machine tombe en panne, le réseau fonctionne toujours\n",
    "    * Si un câble est endommagé, le réseau fonctionne toujours\n",
    "    * Gestion et dépannage du réseau simplifiée\n",
    "* **Inconvénients** : \n",
    "    * Topologie plus couteuse"
   ]
  },
  {
   "cell_type": "markdown",
   "metadata": {},
   "source": [
    "<img src=\"img/cours/image7.png\">"
   ]
  },
  {
   "cell_type": "markdown",
   "metadata": {},
   "source": [
    "# 2. Les équipements d'un réseau\n",
    "## La carte réseau\n",
    "\n",
    "Pour pouvoir communiquer sur un réseau, un équipement doit posséder une ou plusieurs cartes réseaux. On peut identifier 2 types de carte : \n",
    "* **Ethernet** : Contient un port RJ45 permettant d'y connecter un câble\n",
    "* **WIFI** : Contient une puce WIFI permettant la connexion à un réseau sans fils"
   ]
  },
  {
   "cell_type": "markdown",
   "metadata": {},
   "source": [
    "<img src=\"img/cours/image8.png\">"
   ]
  },
  {
   "cell_type": "markdown",
   "metadata": {},
   "source": [
    "## Des connexions\n",
    "Quand on parle de connexions entre 2 machines, on parle du support qui permet de transmettre les données entre 2 équipements. On peut en distinguer 3 : \n",
    "* **Le support cuivre** : On utilise ici différents câbles RJ45\n",
    "* **Le support onde** : On utilise ici les ondes radios (WIFI)\n",
    "* **Le support lumineux** : On utilise ici la fibre optique"
   ]
  },
  {
   "cell_type": "markdown",
   "metadata": {},
   "source": [
    "<img src=\"img/cours/image9.png\">"
   ]
  },
  {
   "cell_type": "markdown",
   "metadata": {},
   "source": [
    "## Le hub (concentrateur)\n",
    "Un  hub est un équipement informatique permettant de concentrer les transmissions Ethernet de plusieurs machines. \n",
    "À chaque transmission reçue, il envoie les données sur tous les ports du hub. Toutes les machines connectées au hub vont donc recevoir le message.\n",
    "Aujourd'hui, le hub n'est plus utilisé dans les réseaux informatiques, il est remplacé par les Switchs."
   ]
  },
  {
   "cell_type": "markdown",
   "metadata": {},
   "source": [
    "<img src=\"img/cours/image10.png\">"
   ]
  },
  {
   "cell_type": "markdown",
   "metadata": {},
   "source": [
    "## Le switch (commutateur)\n",
    "Un switch est un équipement informatique permettant de relier plusieurs machines sur un réseau."
   ]
  },
  {
   "cell_type": "markdown",
   "metadata": {},
   "source": [
    "<img src=\"img/cours/image11.png\">"
   ]
  },
  {
   "cell_type": "markdown",
   "metadata": {},
   "source": [
    "Contrairement au hub, le switch ne transmet pas les informations sur tous les ports : il sait déterminer sur quel port il doit envoyer les données. Pour cela, il utilise une table de correspondance qui lie le port du switch à l'adresse MAC d'une machine. *(table ARP)*\n",
    "\n",
    "Les switchs ayant un nombre limité de prises RJ45, il est possible de relier plusieurs switch ensemble pour agrandir le réseau."
   ]
  },
  {
   "cell_type": "markdown",
   "metadata": {},
   "source": [
    "<img src=\"img/cours/image12.png\">"
   ]
  },
  {
   "cell_type": "markdown",
   "metadata": {},
   "source": [
    "## Le routeur\n",
    "Un routeur est un équipement informatique qui assure le routage des paquets à travers des réseaux différents. Il est composé d'au minimum 2 ports Ethernet pour pouvoir relier 2 réseaux différents."
   ]
  },
  {
   "cell_type": "markdown",
   "metadata": {},
   "source": [
    "<img src=\"img/cours/image13.png\">"
   ]
  },
  {
   "cell_type": "markdown",
   "metadata": {},
   "source": [
    "Maintenant que notre réseau à un support physique (des câbles, switchs, routeurs...), il faut comprendre comment une machine A peut envoyer un message à une machine B.\n",
    "\n",
    "Lorsque l'on veut envoyer une lettre à quelqu'un, on utilise son adresse postale : à chaque habitation correspond une adresse postale.\n",
    "\n",
    "Cette méthode est exactement identique sur un réseau informatique. Chaque machine connectée au réseau sera défini par 2 adresses : \n",
    "* **L'adresse MAC**\n",
    "* **L'adresse IP**\n",
    "\n",
    "\n",
    "De plus, il faut définir un ensemble de règles qui permettent l'échange de données entre les équipements :\n",
    "* **Le modèle OSI**\n",
    "* **Le modèle TCP/IP**"
   ]
  },
  {
   "cell_type": "markdown",
   "metadata": {},
   "source": [
    "# 3. Le modèle TCP/IP\n",
    "## Le modèle en couches\n",
    "Nous allons maintenant découvrir comment l'information est transmise au sein d'un réseau.\n",
    "\n",
    "Les modèles d'architecture réseau sont composés de couches, toutes indépendantes les unes des autres. On part de la couche application (haut niveau) jusqu'à la couche physique (bas niveau).\n",
    "\n",
    "\n",
    "L'idée est d'organiser et de segmenter l'information à transmettre, chaque couche ajoute en entête ses informations spécifiques : **On parle d'encapsulation**"
   ]
  },
  {
   "cell_type": "markdown",
   "metadata": {},
   "source": [
    "<img src=\"img/cours/image15.png\">"
   ]
  },
  {
   "cell_type": "markdown",
   "metadata": {},
   "source": [
    "### Émission\n",
    "On peut voir que chaque couche est intégrée à la suivante jusqu'à la création complète de la trame.\n",
    "\n",
    "### Réception \n",
    "C'est le processus inverse qui est effectué : chaque couche décode son entête jusqu'aux données des utilisateurs.\n",
    "\n",
    "\n",
    "## Le modèle OSI et le modèle TCP/IP\n",
    "Il existe 2 modèles principaux : \n",
    "### Le modèle OSI\n",
    "\n",
    "Le modèle OSI (Open System Interconnection) est le premier modèle imaginé dans les années 1970. Il est composé de 7 couches et permet de poser les base de la communication réseau.\n",
    "\n",
    "### Le modèle TCP/IP\n",
    "Ce modèle est plus récent et s'inspire fortement du modèle OSI. Il est composé de 4 couches : Certaines couches considérées comme inutile ont été regroupées simplifiant le modèle de communication."
   ]
  },
  {
   "cell_type": "markdown",
   "metadata": {},
   "source": [
    "<img src=\"img/cours/image14.png\">\n",
    "\n",
    "Intéressons-nous au modèle TPC/IP, le plus utilisé de nos jour."
   ]
  },
  {
   "cell_type": "markdown",
   "metadata": {},
   "source": [
    "## Les différentes couches TCP/IP\n",
    "### Couche 1 : Physique\n",
    "**Rôle :** Offrir un support de transmission pour la communication<br>\n",
    "**Matériels :** Câbles RJ45, Fibre optique, Ondes radio, Hub<br>\n",
    "**Unité :** Bits ou octets\n",
    "\n",
    "### Couche 2 : Liaison de données\n",
    "**Rôle :** Interconnecter les machines sur un **réseau local**<br>\n",
    "**Matériels :** Switch<br>\n",
    "**Unité :** Trames\n",
    "\n",
    "Cette couche travaille avec les adresses MAC\n",
    "\n",
    "###  Couche 3 : Internet\n",
    "**Rôle :** Interconnecter les réseaux entre eux<br>\n",
    "**Matériels :** Routeur<br>\n",
    "**Unité :** Paquet\n",
    "\n",
    "Cette couche travaille avec les adresses IP\n",
    "\n",
    "### Couche 4 : Transport\n",
    "**Rôle :** Gérer les connexions applicatives\n",
    "On distingue 2 protocoles qui peuvent effectuer le transport :\n",
    "* **TCP** : Transmission Control Protocol. C'est un protocole en mode **connecté**. Avant chaque envoi de paquet, on vérifie que la connexion est bien établie. \n",
    "    * Avantages : Fiabilité des échanges\n",
    "    * Inconvénients : Lenteur due à la vérification de connexion\n",
    "    \n",
    "* **UDP** : User Datagram Protocol : C'est un protocole en mode **non connecté**. Aucune vérification n'est effectuée avant l'envoi des paquets\n",
    "    * Avantages : Rapidité des échanges\n",
    "    * Inconvénients : Aucune fiabilité des échanges. Pertes\n",
    "    \n",
    "### Couche 5 : Application\n",
    "**Rôle :** Utilisation des données par les protocoles de haut niveau : HTTP, HTTPS, SMTP, FTP, SSL"
   ]
  },
  {
   "cell_type": "markdown",
   "metadata": {},
   "source": [
    "<img src=\"img/cours/image16.png\">\n"
   ]
  },
  {
   "cell_type": "markdown",
   "metadata": {},
   "source": [
    "# 4. Les adresses "
   ]
  },
  {
   "cell_type": "markdown",
   "metadata": {},
   "source": [
    "## Les adresses MAC\n",
    "L'adresse MAC (Media address Control) est un identifiant attribué à chaque carte réseau (WIFI ou Ethernet). Il est **unique** et **non modifiable**. On peut parler **d'adresse physique**.\n",
    "\n",
    "Concrètement, cet identifiant est composé de **12 symboles hexadécimaux** séparés par un **``:``** ou **``-``**tous les deux symboles."
   ]
  },
  {
   "cell_type": "markdown",
   "metadata": {},
   "source": [
    "<img src=\"img/cours/image17.png\">\n"
   ]
  },
  {
   "cell_type": "markdown",
   "metadata": {},
   "source": [
    "> ### Combien d'adresses MAC peut avoir un constructeur ?"
   ]
  },
  {
   "cell_type": "markdown",
   "metadata": {},
   "source": [
    "> ### Combien d'adresses MAC en tout ?"
   ]
  },
  {
   "cell_type": "markdown",
   "metadata": {},
   "source": [
    "Dans le modèle en couches, l'adresse MAC intervient à la couche *liaison de données (2)*. Niveau équipement, ce sont les switchs qui gèrent les adresses MAC."
   ]
  },
  {
   "cell_type": "markdown",
   "metadata": {},
   "source": [
    "<img src=\"img/cours/image18.png\">\n"
   ]
  },
  {
   "cell_type": "markdown",
   "metadata": {},
   "source": [
    "## Les adresses IP\n",
    "L'adresse IPv4 (Internet Protocol) est un identifiant donné de façon permanente ou provisoire à une carte réseau. Elle est unique **sur un réseau local** et **modifiable**. On peut parler **d'adresse logique**\n",
    "\n",
    "Concrètement, cet identifiant est composé de **4 octets (32 bits)** séparés par un **``.``**. Elle est écrite sous la forme **décimale pointée**."
   ]
  },
  {
   "cell_type": "markdown",
   "metadata": {},
   "source": [
    "<img src=\"img/cours/image19.png\">\n"
   ]
  },
  {
   "cell_type": "markdown",
   "metadata": {},
   "source": [
    "> ### Combien d'adresses IP peut-on générer ?"
   ]
  },
  {
   "cell_type": "markdown",
   "metadata": {},
   "source": [
    "> ### Quel est la valeur minimale et maximale que l'on peut représenter sur 1 octet ?"
   ]
  },
  {
   "cell_type": "markdown",
   "metadata": {},
   "source": [
    "Dans le modèle en couches, l'adresse IP intervient à la couche *Internet (3)*. Niveau équipement, ce sont les routeurs qui gèrent les adresses IP.\n"
   ]
  },
  {
   "cell_type": "markdown",
   "metadata": {},
   "source": [
    "### Les adresses réservées\n",
    "\n",
    "Il existe deux types d'adresses IP :\n",
    "* Les adresses dites **publiques** : Ces adresses sont routables sur le réseau Internet\n",
    "* Les adresses dites **privées** : Ces adresses sont uniquement utilisées dans un réseau local\n",
    "    * 10.0.0.0 à 10.255.255.255\n",
    "    * 172.16.0.0 à 172.31.255.255\n",
    "    * 192.168.1.0 à 192.168.255.255\n",
    "    \n",
    "De plus, il existe d'autres adresses réservées : \n",
    "* X.X.X.0 : Adresse réseau\n",
    "* X.X.X.255 : Adresse de diffusion. Permet de joindre l'ensemble des équipements du réseau\n",
    "* 127.0.0.1 : Adresse de loopback. Permet de s'envoyer des paquets à soi-même"
   ]
  },
  {
   "cell_type": "markdown",
   "metadata": {},
   "source": [
    "## Les masques"
   ]
  },
  {
   "cell_type": "markdown",
   "metadata": {},
   "source": [
    "Une adresse IP est en réalité composé de 2 parties : \n",
    "* Une partie identifiant **le réseau**\n",
    "* Une partie identifiant **la machine**\n",
    "\n",
    "Pour savoir où se fait la séparation entre les 2 parties, on utilise ce qu'on appelle **les masques réseaux**"
   ]
  },
  {
   "cell_type": "markdown",
   "metadata": {},
   "source": [
    "Concrètement, le masque réseau est composé de **4 octets (32 bits)** séparés par un **``.``**. Pour savoir quelle est l'adresse réseau ou l'adresse machine, il a était définit que : \n",
    "* **Tous les bits à 1** représente la partie réseau.\n",
    "* **Tous les bits à 0** représente la partie machine\n",
    "\n",
    "Elle est souvent écrite sous la forme **décimale pointée** ou en **notation CIDR**"
   ]
  },
  {
   "cell_type": "markdown",
   "metadata": {},
   "source": [
    "<img src=\"img/cours/image20.png\">"
   ]
  },
  {
   "cell_type": "markdown",
   "metadata": {},
   "source": [
    "### Utilisation du masque\n",
    "Pour savoir si deux machines sont sur le même réseau, il faut utiliser l'opérateur logique **``ÀND``**  entre l'adresse IP de la machine et son masque."
   ]
  },
  {
   "cell_type": "markdown",
   "metadata": {},
   "source": [
    "<img src=\"img/cours/image21.png\">"
   ]
  },
  {
   "cell_type": "markdown",
   "metadata": {},
   "source": [
    "##  Epuisement des adresses IP publiques"
   ]
  },
  {
   "cell_type": "markdown",
   "metadata": {},
   "source": [
    "Au fur et à mesure des années, une problématique est arrivée : L'ensemble des adresses IPV4 est utilisé. Plusieurs solutions ont été mises en place pour palier à ce manque d'adresse."
   ]
  },
  {
   "cell_type": "markdown",
   "metadata": {},
   "source": [
    "<img src=\"img/cours/image22.png\">"
   ]
  },
  {
   "cell_type": "markdown",
   "metadata": {},
   "source": [
    "### IPv6\n",
    "Cet identifiant à la même fonction que IPv4 est composé de **16 octets (128 bits)** séparés par un **``.``**. Elle est souvent écrite sous la forme **hexadécimale**\n",
    "\n",
    "Il est alors possible d'avoir $2^{128}$ adresses IP de disponibles contre $2^{32}$ en IPv4"
   ]
  },
  {
   "cell_type": "code",
   "execution_count": 6,
   "metadata": {},
   "outputs": [
    {
     "data": {
      "text/plain": [
       "340282366920938463463374607431768211456"
      ]
     },
     "execution_count": 6,
     "metadata": {},
     "output_type": "execute_result"
    }
   ],
   "source": [
    "2**128"
   ]
  },
  {
   "cell_type": "markdown",
   "metadata": {},
   "source": [
    "# 5. Les services"
   ]
  },
  {
   "cell_type": "markdown",
   "metadata": {},
   "source": [
    "### Le DNS\n",
    "Le **DNS** (Domain Name System) est un protocole simple devenu indispensable au fonctionnement d'Internet. Il est impossible pour les humains de se souvenir des adresses IP. C'est pourquoi le DNS a été mis en place.\n",
    "\n",
    "Il se charge de convertir le nom d'un site en une adresse IP utilisable par une machine.\n",
    "\n",
    "| IP           \t| NOM          \t|\n",
    "|--------------\t|--------------\t|\n",
    "| 192.168.1.10 \t| google.com   \t|\n",
    "| 192.168.1.20 \t| facebook.com \t|\n",
    "| 192.168.1.30 \t| lemonde.com  \t|"
   ]
  },
  {
   "cell_type": "markdown",
   "metadata": {},
   "source": [
    "<img src=\"img/cours/image23.png\">"
   ]
  },
  {
   "cell_type": "markdown",
   "metadata": {
    "slideshow": {
     "slide_type": "subslide"
    }
   },
   "source": [
    "### LE WEB\n",
    "Le **WEB** est le service qui permet l'utilisation de serveur WEB. Ces serveurs sont reliés au réseau et permettent de partager des ressources (fichiers HTML, CSS, image...)\n",
    "\n",
    "Le protocole utilisé est HTTP ou maintenant HTTPS."
   ]
  },
  {
   "cell_type": "markdown",
   "metadata": {},
   "source": [
    "<img src=\"img/cours/image24.png\">"
   ]
  },
  {
   "cell_type": "markdown",
   "metadata": {},
   "source": [
    "### Le DHCP"
   ]
  },
  {
   "cell_type": "markdown",
   "metadata": {},
   "source": [
    "Pour attribuer une adresse IP à une machine, on peut utiliser 2 méthodes :\n",
    "* **Manuelle** : l'utilisateur choisi et paramètre soi-même les adresses IP\n",
    "* **Automatique** : On utilise un serveur DHCP\n",
    "    \n",
    "Le **serveur DHCP** (Dynamic Host Configuration) permet de fournir des adresses IP aux machines d'un réseau quand elles en font la demande. \n",
    "\n",
    "Dans la configuration du serveur DHCP, il suffit d'indiquer un intervalle d'adresses IP dans lequel une adresse IP sera choisie et attribuée à une machine du réseau."
   ]
  },
  {
   "cell_type": "code",
   "execution_count": null,
   "metadata": {},
   "outputs": [],
   "source": []
  }
 ],
 "metadata": {
  "celltoolbar": "Format de la Cellule Texte Brut",
  "kernelspec": {
   "display_name": "Python 3 (ipykernel)",
   "language": "python",
   "name": "python3"
  },
  "language_info": {
   "codemirror_mode": {
    "name": "ipython",
    "version": 3
   },
   "file_extension": ".py",
   "mimetype": "text/x-python",
   "name": "python",
   "nbconvert_exporter": "python",
   "pygments_lexer": "ipython3",
   "version": "3.8.10"
  },
  "latex_envs": {
   "LaTeX_envs_menu_present": true,
   "autoclose": false,
   "autocomplete": true,
   "bibliofile": "biblio.bib",
   "cite_by": "apalike",
   "current_citInitial": 1,
   "eqLabelWithNumbers": true,
   "eqNumInitial": 1,
   "hotkeys": {
    "equation": "Ctrl-E",
    "itemize": "Ctrl-I"
   },
   "labels_anchors": false,
   "latex_user_defs": false,
   "report_style_numbering": false,
   "user_envs_cfg": false
  }
 },
 "nbformat": 4,
 "nbformat_minor": 2
}
