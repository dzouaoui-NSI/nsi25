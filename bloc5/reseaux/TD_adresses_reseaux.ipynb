{
 "cells": [
  {
   "cell_type": "markdown",
   "metadata": {},
   "source": [
    "<div class = \"alert alert-danger\">\n",
    "\n",
    "**ATTENTION**  \n",
    "Pour faire les exercices de ce TD, il faut maîtriser la manipulation des entiers en binaire, décimal et hexadécimal. Revoir si nécessaire le cours `premiere/bloc1/ecriture_entier_positif`\n"
   ]
  },
  {
   "cell_type": "markdown",
   "metadata": {},
   "source": [
    "# Exercice 1\n",
    "\n",
    "On rappelle que l'adresse MAC se présente sous une forme numérique de 6 nombres représentés en hexadécimal et correspondant chacun à un octet : `XX:XX:XX:XX:XX:XX`.  Les 3 premiers nombres permettent d’identifier le fabricant de l’appareil. Par exemple, `00:E0:4C:XX:XX:XX` désigne le constructeur \"Realtek Semiconductor Corp\". \n",
    "\n",
    "1. Combien y-a-t'il d'adresse MAC théoriquement disponibles ?\n",
    "2. Combien de cartes réseaux l'entreprise \"Realtek Semiconductor Corp\" peut-elle théoriquement fabriquer ? "
   ]
  },
  {
   "cell_type": "markdown",
   "metadata": {},
   "source": [
    "## Exercice 2\n",
    "\n",
    "1. Dans un réseau, un hôte est configuré de la façon suivante :\n",
    "\n",
    "    ```txt\n",
    "    IP : 172.16.1.21\n",
    "    masque : 255.255.0.0\n",
    "    ```\n",
    "\n",
    "    a. Quelle est l'adresse du réseau ?\n",
    "\n",
    "    b. Quelle est l'adresse de broadcast ?\n",
    "\n",
    "    c. Combien de machines ce réseau peut-il gérer ?\n",
    "\n",
    "2. Mêmes questions pour la machine suivante :\n",
    "\n",
    "   ```txt\n",
    "   IP : 192.168.1.23/24\n",
    "   ```\n"
   ]
  },
  {
   "cell_type": "markdown",
   "metadata": {},
   "source": [
    "# Exercice 3\n",
    "\n",
    "1. On considère l'adresse IP `200.67.80.45`, avec le masque de sous réseau `255.0.0.0`\n",
    "    * écrire l'adresse du sous-réseau et l'adresse de diffusion\n",
    "    * écrire cette adresse avec la notation CIDR\n",
    "    * combien d'hôtes différents peut-il y avoir sur ce sous-réseau ?\n",
    "    \n",
    "    \n",
    "2. On considère maintenant l'`IP 192.168.207.5/18`.\n",
    "    * déterminer le masque du sous-réseau\n",
    "    * combien d'adresses IP différentes permet ce masque ?\n",
    "    * quelle est l'adresse du sous-réseau ?\n",
    "    * la machine d'adresse IP `192.168.16.125` appartient-elle au même sous-réseau ? \n",
    "    * et la machine d'adresse IP `192.168.195.5` ?\n",
    "    * Une nouvelle machine doit être configurée pour appartenir à ce sous-réseau. Donner son adresse IP et son masque"
   ]
  },
  {
   "cell_type": "markdown",
   "metadata": {},
   "source": [
    "# Exercice 4\n",
    "\n",
    "Considérons trois machines A, B, C d'adresse IP respectives ```192.168.129.10```, ```192.168.135.200``` et ```192.168.145.1```, configurées avec un masque de sous-réseau égal à ```255.255.248.0```.\n",
    "Ces trois machines sont reliées par l'intermédiaire d'un switch.\n",
    "\n",
    "1. Donner l'adresse IP de ces trois machines en notation CIDR\n",
    "2. Seulement deux machines peuvent communiquer entre elles. Lesquelles ? Justifier\n",
    "3. Proposer une nouvelle adresse IP à la machine qui ne peut pas communiquer avec les deux autres, afin qu'elle puisse maintenant le faire. Justifier\n",
    "4. Avec le masque ```255.255.248.0```, combien de machines peut-on avoir au maximum si on veut que toutes puissent communiquer entre elles ? Justifier"
   ]
  },
  {
   "cell_type": "markdown",
   "metadata": {},
   "source": [
    "# Exercice 5 : IP publique / IP privée\n",
    "\n",
    "Ouvrir un terminal de commande pour faire cet exercice\n",
    "\n",
    "1. A l'aide de la commande `ip a` ou `ip address`, noter l'adresse IP de votre machine\n",
    "2. A l'aide de la commande `curl ifconfig.me` (ou en visitant le site https://www.whatismyip.com/fr/), noter l'adresse IP de votre machine\n",
    "3. Recommencer les deux premières questions pour la machine du voisin (ou une autre machine si vous êtes chez vous)\n",
    "4. Les résultats précédents devraient vous surprendre. Pourquoi ?\n",
    "\n",
    "> Certains réseaux ne sont pas directement reliés à internet, comme par exemple les machines composant l'intranet d'une société, ou celles d'un réseau domestique. Ces machines ne sont pas \"visibles\" depuis l'extérieur. Comment font-elles alors pour accéder au world wide web ?  \n",
    "Il faut pour cela qu'une machine du réseau appelée **[serveur NAT](https://fr.wikipedia.org/wiki/Network_address_translation)** (A la maison, c'est la \"box\" qui fait ce travail), qui dispose de deux cartes réseau, fasse \"le lien\" vers ou depuis l'extérieur du réseau domestique.\n",
    "\n",
    "Chacune des cartes réseau de cette machine dispose de sa propre adresse IP :\n",
    "\n",
    "* celle \"dirigée\" vers l'intérieur du réseau dispose d'une adresse IP dans la plage correspondant à votre sous-réseau domestique (c'est donc une **IP privée**, c'est à dire valable uniquement sur le réseau et \"invisible\" de l'extérieur ).\n",
    "* celle vers l'extérieur a une **IP publique**, visible depuis le reste du réseau mondial.\n",
    "\n",
    "![click droit pour afficher l'image](img/nat.png)\n",
    "\n",
    "Le rôle du **serveur NAT** est alors de \"traduire\" l'IP privée de l'hôte en l'IP publique lorsqu'une machine du réseau local cherche à accèder au world wide web.\n",
    "\n",
    "Ce mécanisme permet d'utiliser des adresses IP identiques dans différents sous-réseaux locaux privés connecté au réseau Internet sans risquer que deux machines aient la même IP puisque les IP privées sont \"invisibles\" depuis l'extérieur et donc des autres réseaux locaux...C'est aussi une façon, avant l'adoption généralisée des adresses IPv6, \"d'économiser\" les adresses IPv4 !\n",
    "\n",
    "5. Après avoir lu les informations ci-dessus, compléter le tableau suivant :\n",
    "\n",
    "||**votre machine**|**machine voisine**|\n",
    "|:-|:-|:-|\n",
    "|**Adresse IP privée**|||\n",
    "|**Adresse IP publique**|||\n",
    "\n",
    "\n",
    "Des plages d'adresse IP sont réservées aux IP privées, ces plages d'adresse sont \"interdites\" sur internet, et les équipements qui en gèrent le trafic (notamment les routeurs) les ignorent :\n",
    "\n",
    "* les adresses 10.0.0.0/8 pour les très grands réseaux\n",
    "* les adresses 172.16.0.0/12 pour les réseaux moyens, comme ceux des établissement scolaires par exemple\n",
    "* les adresses 192.168.0.0/16 pour les réseaux domestiques, comme chez vous sans doute\n",
    "\n",
    "Pour cette raison, on dit que les **IP privées** ne sont pas routables\n",
    "\n",
    "6. Pour chacune des plages d'adresse précédentes :\n",
    "* déterminer le masque de sous-réseau\n",
    "* déterminer l'adresse du sous-réseau\n",
    "* déterminer le nombre d'adesse IP différentes possibles\n",
    "* déterminer la dernière adresse IP dans la plage\n",
    "\n",
    "# Exercice 6 : Configurer un réseau\n",
    "\n",
    "Configurez les hôtes ci-dessous pour que le réseau fonctionne. Pour cela, compléter les adresses IP, masques, DNS et passerelle.  (On rappelle qu'un serveur DSN sert à associer une adresse IP d'un serveur web à un nom de domaine)\n",
    "\n",
    "![click droit pour afficher l'image](img/reseau_a_completer.jpg)"
   ]
  }
 ],
 "metadata": {
  "kernelspec": {
   "display_name": "Python 3 (ipykernel)",
   "language": "python",
   "name": "python3"
  },
  "language_info": {
   "codemirror_mode": {
    "name": "ipython",
    "version": 3
   },
   "file_extension": ".py",
   "mimetype": "text/x-python",
   "name": "python",
   "nbconvert_exporter": "python",
   "pygments_lexer": "ipython3",
   "version": "3.8.10"
  },
  "latex_envs": {
   "LaTeX_envs_menu_present": true,
   "autoclose": false,
   "autocomplete": true,
   "bibliofile": "biblio.bib",
   "cite_by": "apalike",
   "current_citInitial": 1,
   "eqLabelWithNumbers": true,
   "eqNumInitial": 1,
   "hotkeys": {
    "equation": "Ctrl-E",
    "itemize": "Ctrl-I"
   },
   "labels_anchors": false,
   "latex_user_defs": false,
   "report_style_numbering": false,
   "user_envs_cfg": false
  }
 },
 "nbformat": 4,
 "nbformat_minor": 4
}
