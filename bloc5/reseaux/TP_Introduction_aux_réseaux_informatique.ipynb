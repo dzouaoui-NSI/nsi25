{
 "cells": [
  {
   "cell_type": "markdown",
   "metadata": {},
   "source": [
    "# TP - Introduction aux réseaux informatiques\n"
   ]
  },
  {
   "cell_type": "markdown",
   "metadata": {},
   "source": [
    "## Introduction\n",
    "L'objectif de ce TP est de mettre en place un réseau informatique comprenant tous les équipements et services vu en cours.\n",
    "\n",
    "## Le logiciel de simulation Filius\n",
    "\n",
    "Filius est un logiciel de simulation qui permet de modéliser un réseau informatique complet. \n",
    "\n",
    "Il fonctionne avec 2 modes d'utilisation : \n",
    "\n",
    "* **Le mode de Conception** : Il permet de créer le réseau informatique. Vous pouvez ajouter des équipements, configurer les adresses des machines...\n",
    "\n",
    "* **Le mode de simulation** : Il permet d'utiliser les machines du réseau : On peut y installer des logiciels comme sur un vrai PC."
   ]
  },
  {
   "cell_type": "markdown",
   "metadata": {},
   "source": [
    "<img src=\"img/tp/imageTP1.png\">"
   ]
  },
  {
   "cell_type": "markdown",
   "metadata": {},
   "source": [
    "Pour configurer un équipement, il faut ``double-cliquer`` dessus. Un panneau s'affiche en bas de l'écran. Il est alors possible de configurer l'ensemble des paramètres : \n",
    "* Adresse IP\n",
    "* Masque \n",
    "* Passerelle\n",
    "* Serveur DNS\n",
    "\n",
    "Pour faciliter la compréhension, il est possible de cocher l'option ``Utiliser l'adresse IP comme nom``"
   ]
  },
  {
   "cell_type": "markdown",
   "metadata": {},
   "source": [
    "<img src=\"img/tp/imageTP2.png\">"
   ]
  },
  {
   "cell_type": "markdown",
   "metadata": {},
   "source": [
    "## Exercice 1 - Réseau pair à pair avec 2 machines\n",
    "1. `Créer` un réseau de 2 machines reliées avec un câble et suivre le plan d'adresses donné ci-dessous :\n",
    "\n",
    "| Équipement | @ip |\n",
    "|:----------:|:---:|\n",
    "|PC 1 | 192.168.1.1|\n",
    "|PC 2 | 192.168.1.2|\n",
    "\n",
    "2. `Lancer` la simulation\n",
    "\n",
    "Nous allons installer notre premier logiciel. Pour cela : \n",
    "3. `Double-clic` sur l'une des machines. Le bureau de l'ordinateur s'ouvre.\n",
    "4. `Cliquer` sur l'icône **Installation des logiciels** puis sélectionner **Ligne de commande** dans la liste des logiciels disponibles.\n",
    "5. `Cliquer` ensuite sur **flèche gauche** pour l'ajouter aux logiciels puis **Appliquer les modifications**\n",
    "\n",
    "Le logiciel **Ligne de commandes** est désormais installé.\n",
    "\n",
    "6. `Réaliser` la même manipulation pour le deuxième ordinateur.\n",
    "\n",
    "Pour savoir si les 2 machines communiquent entre-elles, on peut utiliser la commande **``ping``** sur un ordinateur.\n",
    "7. `Lancer` le logiciel **Ligne de commande** sur PC1(192.168.1.1)\n",
    "8. `Entrer` la commande suivante : **``ping 192.168.1.2``**\n",
    "\n",
    "Le résultat de cette commande nous montre que nos 4 paquets de données ont bien étés envoyés, sans perte. La connexion entre les 2 machines fonctionnent parfaitement."
   ]
  },
  {
   "cell_type": "markdown",
   "metadata": {},
   "source": [
    "<img src=\"img/tp/imageTP3.png\">"
   ]
  },
  {
   "cell_type": "markdown",
   "metadata": {},
   "source": [
    "9.  `Utiliser` la commande **`ping`** depuis PC2(192.168.1.2)\n",
    "10. `Clic-droit` sur PC1(192.168.1.1) puis sur **Afficher les échanges de données**.\n",
    "Une nouvelle fenêtre vient de s'ouvrir."
   ]
  },
  {
   "cell_type": "markdown",
   "metadata": {},
   "source": [
    "<img src=\"img/tp/imageTP4.png\">"
   ]
  },
  {
   "cell_type": "markdown",
   "metadata": {},
   "source": [
    "Cette fenêtre **Échanges de données** permet de visualiser l'ensemble des échanges entre les 2 machines ainsi que les protocoles utilisés. On peut même  visualiser les couches du modèle TCP/IP.\n",
    "\n",
    "On peut voir les échanges qu'a effectuer la commande **``ping``** : \n",
    "* L'envoi d'un *Echo Request (ping)*\n",
    "* La réception d'un *Echo Reply (pong)* seulement si la connexion est établie."
   ]
  },
  {
   "cell_type": "markdown",
   "metadata": {},
   "source": [
    "## Exercice 2 - Réseau de plusieurs machines avec un switch\n",
    "\n",
    "### Partie A\n",
    "\n",
    "1. `Ouvrir` un nouveau fichier et `sauvegarder-le` sous le nom *switch_tp_filius*\n",
    "2. `Insérer` 5 ordinateurs et un switch\n",
    "3. `Réaliser` le plan d'adressage suivant :\n",
    "\n",
    "| Équipement \t| @ip          \t|\n",
    "|------------\t|--------------\t|\n",
    "| PC1        \t| 192.168.1.10 \t|\n",
    "| PC2        \t| 192.168.1.11 \t|\n",
    "| PC3        \t| 192.168.1.12 \t|\n",
    "| PC4        \t| 192.168.1.13 \t|\n",
    "| PC5        \t| 192.168.1.14 \t|\n",
    "\n",
    "4. `Connecter` tous les ordinateurs au switch\n",
    "5. `Lancer` la simulation\n",
    "6. `Installer` sur l'ordinateur **192.168.1.10** le logiciel **Ligne de commandes**\n",
    "7. `Afficher` **les échanges de données** de l'ordinateur **192.168.1.14**\n",
    "8. `Effectuer` un ping sur **192.168.1.14** depuis **192.168.1.10**\n",
    "9. `Observer` les échanges de données\n",
    "10. `Que remarquez-vous au niveau des premières lignes ?` `À quoi sert le protocole ARP ?`\n",
    "11. `Observer` les échanges de données des autres ordinateurs. \n",
    "12. `Que remarquez-vous ?` `Que peut-on en déduire sur le protocole ARP ?`\n",
    "\n",
    "### Partie B\n",
    "1. Sur le même fichier, `ajouter` un switch et 5 ordinateurs en suivant le plan d'adressage suivant :\n",
    "\n",
    "| Équipement \t| @ip          \t|\n",
    "|------------\t|--------------\t|\n",
    "| PC6        \t| 192.168.1.20 \t|\n",
    "| PC7        \t| 192.168.1.21 \t|\n",
    "| PC8        \t| 192.168.1.22 \t|\n",
    "| PC9        \t| 192.168.1.23 \t|\n",
    "| PC10        \t| 192.168.1.24 \t|\n",
    "\n",
    "2. `Relier` les nouveaux ordinateurs au nouveau switch\n",
    "3. `Relier` les 2 switchs\n",
    "4. `Vérifier` que l'ensemble des ordinateurs peuvent communiquer \n"
   ]
  },
  {
   "cell_type": "markdown",
   "metadata": {},
   "source": [
    "## Exercice 3 - Communication entre plusieurs réseaux\n",
    "\n",
    "1. `Ouvrir` un nouveau fichier et `sauvegarder-le` sous le nom *routeur_tp_filius*\n",
    "2. `Réaliser` le plan d'adressage suivant :\n",
    "\n",
    "\n",
    "##### Le masque utilisé est /16\n",
    "\n",
    "#### Réseau A :\n",
    " * 5 PC\n",
    " * 1 switch\n",
    "        \n",
    "| Équipement \t| @ip          \t|              \n",
    "|------------\t|--------------\t|\n",
    "| PC1        \t| 172.16.100.1 \t|\n",
    "| PC2        \t| 172.16.100.2\t|\n",
    "| PC3        \t| 172.16.100.3 \t|\n",
    "| PC4        \t| 172.16.100.4 \t|\n",
    "| PC5        \t| 172.16.100.5 \t|\n",
    "\n",
    "\n",
    " #### Réseau B :\n",
    " * 5 PC\n",
    " * 1 switch\n",
    "        \n",
    "| Équipement \t| @ip          \t|              \n",
    "|------------\t|--------------\t|\n",
    "| PC6        \t| 172.17.100.1 \t|\n",
    "| PC7        \t| 172.17.100.2\t|\n",
    "| PC8        \t| 172.17.100.3 \t|\n",
    "| PC9        \t| 172.17.100.4 \t|\n",
    "| PC10       \t| 172.17.100.5 \t|\n",
    "\n",
    "3. `Relier` les 2 switchs avec un routeur.\n",
    "\n",
    "Vous devez obtenir le schéma ci-dessous"
   ]
  },
  {
   "cell_type": "markdown",
   "metadata": {},
   "source": [
    "<img src=\"img/tp/imageTP5.png\">"
   ]
  },
  {
   "cell_type": "markdown",
   "metadata": {},
   "source": [
    "4. `Lancer` la commande **ping** depuis **172.16.100.1** vers **172.17.100.1**\n",
    "Vous devriez voir qu'il n'est pas possible de joindre l'ordinateur puisqu'ils ne sont pas sur le même réseau.\n",
    "\n",
    "Le routeur est donc installé pour permettre la communication entre plusieurs réseaux\n",
    "\n",
    "5. `Double-clic` sur le routeur pour le configurer.\n",
    "\n",
    "Un routeur possède au minimum de 2 interfaces, une dans chaque réseau. Vous pouvez configurer chacune des interfaces dans l'onglet de configuration.\n"
   ]
  },
  {
   "cell_type": "markdown",
   "metadata": {},
   "source": [
    "<img src=\"img/tp/imageTP6.png\">"
   ]
  },
  {
   "cell_type": "markdown",
   "metadata": {},
   "source": [
    "6. `Configurer` l'adresse IP et le masque des 2 interfaces sur le routeur.\n",
    "7. `Relancer` la commande ping depuis **172.16.100.1** vers **172.17.100.1** \n",
    "\n",
    "Toujours aucune communication entre les 2 ordinateurs : c'est normal !\n",
    "\n",
    "Lorsqu'on veut communiquer avec un ordinateur d'un autre réseau, il faut indiquer à l'ordinateur source comment sortir du réseau : il faut définir ce qu'on appelle **la passerelle**. \n",
    "\n",
    "Dans notre installation, le périphérique qui permet de sortir d'un réseau local est le routeur.\n",
    "\n",
    "8. `Ajouter` l'adresse de la passerelle dans la configuration réseau de chaque ordinateur. \n",
    "9. `Vérifier` que l'ensemble des ordinateurs peuvent communiquer\n",
    "\n",
    "10. `Ajouter` les machines suivantes au réseau déjà existant\n",
    "\n",
    "#### Réseau C :\n",
    " * 5 PC\n",
    " * 1 switch\n",
    "        \n",
    "| Équipement \t| @ip          \t|              \n",
    "|------------\t|--------------\t|\n",
    "| PC11       \t| 172.18.100.1 \t|\n",
    "| PC12       \t| 172.18.100.2\t|\n",
    "| PC13        \t| 172.18.100.3 \t|\n",
    "| PC14       \t| 172.18.100.4 \t|\n",
    "| PC15       \t| 172.18.100.5 \t|\n",
    "\n",
    "\n",
    "11. `Configurer` les ordinateurs et le routeur pour que l'ensemble des 15 PC puissent communiquer"
   ]
  },
  {
   "cell_type": "markdown",
   "metadata": {},
   "source": [
    "## Exercice 4 - Configuration d'un serveur WEB\n",
    "\n",
    "Pour la suite des exercices, vous utilisez le même fichier que pour l'exercice 3\n",
    "\n",
    "1. `Ajouter` un ordinateur dans le réseau de votre choix et `renommer-le` **Serveur WEB**\n",
    "\n",
    "2. `Configurer` les paramètres pour qu'il soit accessible depuis n'importe quel ordinateur\n",
    "\n",
    "Ce nouvel ordinateur va devenir le serveur WEB de notre réseau. Vous devez obtenir le schéma ci-dessous"
   ]
  },
  {
   "cell_type": "markdown",
   "metadata": {},
   "source": [
    "<img src=\"img/tp/imageTP7.png\">"
   ]
  },
  {
   "cell_type": "markdown",
   "metadata": {},
   "source": [
    "3. `Installer` le logiciel **Serveur Web** sur la machine serveur.\n",
    "4. `Double-clic` sur l'icône **Serveur Web** puis `démarrer` pour lancer le serveur.\n",
    "\n",
    "Notre serveur est maintenant fonctionnel. Voyons maintenant si il est possible de récupérer une page web.\n",
    "\n",
    "5. `Installer` le logiciel **Navigateur Internet** sur un autre ordinateur du réseau.\n",
    "4. `Double-clic` sur l'icône **Navigateur Internet** et `entrer` l'adresse IP du serveur dans la barre de l'URL.\n",
    "\n",
    "La page web par défaut du serveur web s'affiche !"
   ]
  },
  {
   "cell_type": "markdown",
   "metadata": {},
   "source": [
    "<img src=\"img/tp/imageTP8.png\">"
   ]
  },
  {
   "cell_type": "markdown",
   "metadata": {},
   "source": [
    "5. `Ouvrir` le panneau **Échanges de données**. `Quelles couches du modèle TCP/IP utilise-t-on lors d'une requête vers un serveur WEB ?` `Quels sont les protocoles utilisés ?`\n"
   ]
  },
  {
   "cell_type": "markdown",
   "metadata": {},
   "source": [
    "## Exercice 5 - Configuration d'un serveur DNS\n",
    "\n",
    "Maintenant, ajoutons un serveur DNS pour simplifier la gestion des adresses.\n",
    "\n",
    "1. `Ajouter` un ordinateur dans le réseau de votre choix et `renommer-le` **Serveur DNS**\n",
    "2. `Configurer` les paramètres pour qu'il soit accessible depuis n'importe quel ordinateur\n",
    "\n",
    "Ce nouvel ordinateur va devenir le serveur DNS de notre réseau. Vous devez obtenir le schéma ci-dessous"
   ]
  },
  {
   "cell_type": "markdown",
   "metadata": {},
   "source": [
    "<img src=\"img/tp/imageTP10.png\">"
   ]
  },
  {
   "cell_type": "markdown",
   "metadata": {},
   "source": [
    "3. `Installer` le logiciel **Serveur DNS** sur la machine **Serveur DNS**\n",
    "4. `Double-clic` sur l'icône **Serveur DNS** puis `démarrer` pour lancer le serveur.\n",
    "\n",
    "Ajoutons un nom de domaine pour notre serveur web.\n",
    "\n",
    "5. `Entrer` le nom de votre site dans le champ **Nom de domaine**. Ici, nous prendrons **jean-rostand.fr**\n",
    "6. `Entrer` l'adresse IP d'une machine. Ici, nous mettrons l'adresse de notre serveur web\n",
    "\n",
    "Vous devez obtenir le résultat ci-dessous (l'adresse IP peut être différente)"
   ]
  },
  {
   "cell_type": "markdown",
   "metadata": {},
   "source": [
    "<img src=\"img/tp/imageTP11.png\">"
   ]
  },
  {
   "cell_type": "markdown",
   "metadata": {},
   "source": [
    "7. `Cliquer` sur ajouter pour ajouter une entrée dans le serveur DNS.\n",
    "8. `Ajouter` l'adresse du serveur DNS dans les configurations réseaux de chaque ordinateur.\n",
    "10. Sur n'importe quel ordinateur, `lancer` la commande **ping jean-rostand.fr** ou `accéder` à **jean-rostand.fr** depuis le logiciel **Navigateur Internet**\n",
    "\n",
    "11. `Ajouter` un nouveau serveur web accessible par **monSuperSite.com** sur n'importe quel ordinateur.\n"
   ]
  },
  {
   "cell_type": "markdown",
   "metadata": {},
   "source": [
    "## Exercice 7 - Installation d'un serveur Apache (Bonus)"
   ]
  },
  {
   "cell_type": "markdown",
   "metadata": {},
   "source": [
    "### Et sur Linux, comment ça marche ?\n",
    "\n",
    "Sous Linux, il est possible d'installer un serveur web pour diffuser des pages HTML comme celles que vous avez réalisées la semaine dernière.\n",
    "\n",
    "Le serveur web le plus utilisé sous Linux s'appelle **Apache2**. \n",
    "\n",
    "### Installation\n",
    "Pour installer le serveur web Apache2, il suffit d'utiliser le gestionnaire de paquet `apt-get`.\n",
    "1. `Ouvrir` un terminal et `exécuter` la commande suivante : \n",
    "\n",
    "```console\n",
    "nsi@nsi:~$ sudo apt-get install apache2\n",
    "\n",
    "```\n",
    "2. `Ouvrir` un navigateur et `accéder` à **127.0.0.1**. Souvenez-vous, cette adresse correspond à notre propre machine, donc à ce que notre serveur renvoi.\n",
    "Si tout se passe bien, le serveur vous renvoi la page par défaut d'Apache2"
   ]
  }
 ],
 "metadata": {
  "kernelspec": {
   "display_name": "Python 3",
   "language": "python",
   "name": "python3"
  },
  "language_info": {
   "codemirror_mode": {
    "name": "ipython",
    "version": 3
   },
   "file_extension": ".py",
   "mimetype": "text/x-python",
   "name": "python",
   "nbconvert_exporter": "python",
   "pygments_lexer": "ipython3",
   "version": "3.8.5"
  },
  "latex_envs": {
   "LaTeX_envs_menu_present": true,
   "autoclose": false,
   "autocomplete": true,
   "bibliofile": "biblio.bib",
   "cite_by": "apalike",
   "current_citInitial": 1,
   "eqLabelWithNumbers": true,
   "eqNumInitial": 1,
   "hotkeys": {
    "equation": "Ctrl-E",
    "itemize": "Ctrl-I"
   },
   "labels_anchors": false,
   "latex_user_defs": false,
   "report_style_numbering": false,
   "user_envs_cfg": false
  }
 },
 "nbformat": 4,
 "nbformat_minor": 2
}
